{
 "cells": [
  {
   "cell_type": "markdown",
   "metadata": {},
   "source": [
    "# Project: Explore U.S. Births\n",
    "\n",
    "> The [dataset](https://raw.githubusercontent.com/fivethirtyeight/data/master/births/US_births_1994-2003_CDC_NCHS.csv) contains the following columns:\n",
    "\n",
    "> * year: Year (1994 to 2003).\n",
    "\n",
    "> * month: Month (1 to 12).\n",
    "\n",
    "> * date_of_month: Day number of the month (1 to 31).\n",
    "\n",
    "> * day_of_week: Day of week (1 to 7).\n",
    "\n",
    "> * births: Number of births that day.\n"
   ]
  },
  {
   "cell_type": "markdown",
   "metadata": {},
   "source": [
    "## 1. Reading csv"
   ]
  },
  {
   "cell_type": "code",
   "execution_count": 2,
   "metadata": {
    "collapsed": false
   },
   "outputs": [
    {
     "data": {
      "text/plain": [
       "['year,month,date_of_month,day_of_week,births',\n",
       " '1994,1,1,6,8096',\n",
       " '1994,1,2,7,7772',\n",
       " '1994,1,3,1,10142',\n",
       " '1994,1,4,2,11248',\n",
       " '1994,1,5,3,11053',\n",
       " '1994,1,6,4,11406',\n",
       " '1994,1,7,5,11251',\n",
       " '1994,1,8,6,8653',\n",
       " '1994,1,9,7,7910']"
      ]
     },
     "execution_count": 2,
     "metadata": {},
     "output_type": "execute_result"
    }
   ],
   "source": [
    "text = open(\"US_births_1994-2003_CDC_NCHS.csv\",'r').read()\n",
    "text_list = text.split(\"\\n\")\n",
    "text_list[0:10]"
   ]
  },
  {
   "cell_type": "markdown",
   "metadata": {},
   "source": [
    "## 2. Converting Data Into A List Of Lists"
   ]
  },
  {
   "cell_type": "code",
   "execution_count": 3,
   "metadata": {
    "collapsed": true
   },
   "outputs": [],
   "source": [
    "def read_csv(name):\n",
    "    f = open(name).read()\n",
    "    l = f.split(\"\\n\")\n",
    "    string_list = l[1:len(l)]\n",
    "    final_list = []\n",
    "    for st in string_list:\n",
    "        int_fields = []\n",
    "        string_fields = st.split(\",\")\n",
    "        for sf in string_fields:\n",
    "            int_fields.append(int(sf))\n",
    "        final_list.append(int_fields)\n",
    "    return final_list"
   ]
  },
  {
   "cell_type": "code",
   "execution_count": 4,
   "metadata": {
    "collapsed": false
   },
   "outputs": [
    {
     "data": {
      "text/plain": [
       "[[1994, 1, 1, 6, 8096],\n",
       " [1994, 1, 2, 7, 7772],\n",
       " [1994, 1, 3, 1, 10142],\n",
       " [1994, 1, 4, 2, 11248],\n",
       " [1994, 1, 5, 3, 11053],\n",
       " [1994, 1, 6, 4, 11406],\n",
       " [1994, 1, 7, 5, 11251],\n",
       " [1994, 1, 8, 6, 8653],\n",
       " [1994, 1, 9, 7, 7910],\n",
       " [1994, 1, 10, 1, 10498]]"
      ]
     },
     "execution_count": 4,
     "metadata": {},
     "output_type": "execute_result"
    }
   ],
   "source": [
    "cdc_list = read_csv(\"US_births_1994-2003_CDC_NCHS.csv\")\n",
    "cdc_list[0:10]"
   ]
  },
  {
   "cell_type": "markdown",
   "metadata": {},
   "source": [
    "## 3. Number Of Births Each Month"
   ]
  },
  {
   "cell_type": "code",
   "execution_count": 5,
   "metadata": {
    "collapsed": true
   },
   "outputs": [],
   "source": [
    "def month_births(lol):\n",
    "    births_per_month = {}\n",
    "    for ls in lol:\n",
    "        month = str(ls[1])\n",
    "        births = ls[4]\n",
    "        if month not in births_per_month:\n",
    "            births_per_month[month] = births\n",
    "        else:\n",
    "            births_per_month[month] = births_per_month[month] + births\n",
    "    return births_per_month"
   ]
  },
  {
   "cell_type": "code",
   "execution_count": 6,
   "metadata": {
    "collapsed": false,
    "scrolled": true
   },
   "outputs": [
    {
     "data": {
      "text/plain": [
       "{'1': 3232517,\n",
       " '10': 3378814,\n",
       " '11': 3171647,\n",
       " '12': 3301860,\n",
       " '2': 3018140,\n",
       " '3': 3322069,\n",
       " '4': 3185314,\n",
       " '5': 3350907,\n",
       " '6': 3296530,\n",
       " '7': 3498783,\n",
       " '8': 3525858,\n",
       " '9': 3439698}"
      ]
     },
     "execution_count": 6,
     "metadata": {},
     "output_type": "execute_result"
    }
   ],
   "source": [
    "cdc_month_births = month_births(cdc_list)\n",
    "cdc_month_births"
   ]
  },
  {
   "cell_type": "markdown",
   "metadata": {},
   "source": [
    "## 4. Number Of Births Each Day Of Week"
   ]
  },
  {
   "cell_type": "code",
   "execution_count": 7,
   "metadata": {
    "collapsed": true
   },
   "outputs": [],
   "source": [
    "def dow_births(list_of_lists):\n",
    "    final_dict = {}\n",
    "    for each_list in list_of_lists:\n",
    "        dow = each_list[3]\n",
    "        births = each_list[4]\n",
    "        if dow not in final_dict:\n",
    "            final_dict[dow] = births\n",
    "        else:\n",
    "            final_dict[dow] = final_dict[dow] + births\n",
    "    return final_dict"
   ]
  },
  {
   "cell_type": "code",
   "execution_count": 8,
   "metadata": {
    "collapsed": false
   },
   "outputs": [
    {
     "data": {
      "text/plain": [
       "{1: 5789166,\n",
       " 2: 6446196,\n",
       " 3: 6322855,\n",
       " 4: 6288429,\n",
       " 5: 6233657,\n",
       " 6: 4562111,\n",
       " 7: 4079723}"
      ]
     },
     "execution_count": 8,
     "metadata": {},
     "output_type": "execute_result"
    }
   ],
   "source": [
    "cdc_day_births = dow_births(cdc_list)\n",
    "cdc_day_births"
   ]
  },
  {
   "cell_type": "markdown",
   "metadata": {},
   "source": [
    "## 5. Function that works for any column"
   ]
  },
  {
   "cell_type": "code",
   "execution_count": 9,
   "metadata": {
    "collapsed": true
   },
   "outputs": [],
   "source": [
    "def calc_counts(data,column):\n",
    "    final_dict = {}\n",
    "    for each_list in data:\n",
    "        some_param = each_list[column]\n",
    "        births = each_list[4]\n",
    "        if some_param not in final_dict:\n",
    "            final_dict[some_param] = births\n",
    "        else:\n",
    "            final_dict[some_param] = final_dict[some_param] + births\n",
    "    return final_dict"
   ]
  },
  {
   "cell_type": "code",
   "execution_count": 10,
   "metadata": {
    "collapsed": false
   },
   "outputs": [],
   "source": [
    "cdc_year_births = calc_counts(cdc_list,0)\n",
    "cdc_month_births = calc_counts(cdc_list,1)\n",
    "cdc_dom_births = calc_counts(cdc_list,2)\n",
    "cdc_dow_births = calc_counts(cdc_list,3)"
   ]
  },
  {
   "cell_type": "code",
   "execution_count": 11,
   "metadata": {
    "collapsed": false
   },
   "outputs": [
    {
     "data": {
      "text/plain": [
       "{1994: 3952767,\n",
       " 1995: 3899589,\n",
       " 1996: 3891494,\n",
       " 1997: 3880894,\n",
       " 1998: 3941553,\n",
       " 1999: 3959417,\n",
       " 2000: 4058814,\n",
       " 2001: 4025933,\n",
       " 2002: 4021726,\n",
       " 2003: 4089950}"
      ]
     },
     "execution_count": 11,
     "metadata": {},
     "output_type": "execute_result"
    }
   ],
   "source": [
    "cdc_year_births"
   ]
  },
  {
   "cell_type": "markdown",
   "metadata": {},
   "source": [
    "## 6. Function that calculates the min and max values"
   ]
  },
  {
   "cell_type": "code",
   "execution_count": 12,
   "metadata": {
    "collapsed": false
   },
   "outputs": [],
   "source": [
    "def count_min_max(data):\n",
    "    key_list = []\n",
    "    value_list = []\n",
    "    new_dict = {}\n",
    "    for key in data:\n",
    "        key_list.append(key)\n",
    "        value_list.append(data[key])\n",
    "    max_value = max(value_list)\n",
    "    min_value = min(value_list)\n",
    "    for key in data:\n",
    "        if data[key] == max_value:\n",
    "            new_dict[key] = max_value\n",
    "        if data[key] == min_value:\n",
    "            new_dict[key] = min_value\n",
    "    return new_dict  "
   ]
  },
  {
   "cell_type": "code",
   "execution_count": 13,
   "metadata": {
    "collapsed": false
   },
   "outputs": [
    {
     "data": {
      "text/plain": [
       "{1997: 3880894, 2003: 4089950}"
      ]
     },
     "execution_count": 13,
     "metadata": {},
     "output_type": "execute_result"
    }
   ],
   "source": [
    "count_min_max(cdc_year_births)"
   ]
  },
  {
   "cell_type": "markdown",
   "metadata": {},
   "source": [
    "## 7. Function that extracts the same values across years"
   ]
  },
  {
   "cell_type": "code",
   "execution_count": 14,
   "metadata": {
    "collapsed": false
   },
   "outputs": [
    {
     "data": {
      "text/plain": [
       "{1994: 428752,\n",
       " 1995: 425790,\n",
       " 1996: 413336,\n",
       " 1997: 404478,\n",
       " 1998: 407129,\n",
       " 1999: 401991,\n",
       " 2000: 416454,\n",
       " 2001: 397119,\n",
       " 2002: 391375,\n",
       " 2003: 393299}"
      ]
     },
     "execution_count": 14,
     "metadata": {},
     "output_type": "execute_result"
    }
   ],
   "source": [
    "def same_values_across_years(data,day):\n",
    "    some_day_births_across_years = dict()\n",
    "    for row in data:\n",
    "        row_day = row[3]\n",
    "        row_year = row[0]\n",
    "        row_births = row[4]\n",
    "        if row_day == int(day):\n",
    "            if row_year not in some_day_births_across_years:\n",
    "                some_day_births_across_years[row_year] = row_births\n",
    "            else:\n",
    "                some_day_births_across_years[row_year] = some_day_births_across_years[row_year] + row_births\n",
    "    return some_day_births_across_years\n",
    "        \n",
    "saturday_births_across_years = same_values_across_years(cdc_list,7)\n",
    "saturday_births_across_years"
   ]
  },
  {
   "cell_type": "markdown",
   "metadata": {},
   "source": [
    "## 8. Combining CDC data with [SSA data](https://github.com/fivethirtyeight/data/tree/master/births)"
   ]
  },
  {
   "cell_type": "code",
   "execution_count": 15,
   "metadata": {
    "collapsed": false
   },
   "outputs": [
    {
     "data": {
      "text/plain": [
       "[[2000, 1, 1, 6, 9083],\n",
       " [2000, 1, 2, 7, 8006],\n",
       " [2000, 1, 3, 1, 11363],\n",
       " [2000, 1, 4, 2, 13032],\n",
       " [2000, 1, 5, 3, 12558],\n",
       " [2000, 1, 6, 4, 12466],\n",
       " [2000, 1, 7, 5, 12516],\n",
       " [2000, 1, 8, 6, 8934],\n",
       " [2000, 1, 9, 7, 7949],\n",
       " [2000, 1, 10, 1, 11668]]"
      ]
     },
     "execution_count": 15,
     "metadata": {},
     "output_type": "execute_result"
    }
   ],
   "source": [
    "ssa_list = read_csv(\"US_births_2000-2014_SSA.csv\")\n",
    "ssa_list[0:10]"
   ]
  },
  {
   "cell_type": "markdown",
   "metadata": {},
   "source": [
    "## 9. Creating key dimension containing \"year-month-dom-dow\""
   ]
  },
  {
   "cell_type": "code",
   "execution_count": 16,
   "metadata": {
    "collapsed": false
   },
   "outputs": [],
   "source": [
    "def create_key(data):\n",
    "    new_list_of_lists = []\n",
    "    for each_list in data:\n",
    "        new_list = []\n",
    "        key = each_list[0:4]\n",
    "        value = each_list[4]\n",
    "        new_list.append(key)\n",
    "        new_list.append(value)\n",
    "        new_list_of_lists.append(new_list)\n",
    "    return new_list_of_lists"
   ]
  },
  {
   "cell_type": "code",
   "execution_count": 17,
   "metadata": {
    "collapsed": false
   },
   "outputs": [
    {
     "data": {
      "text/plain": [
       "[[[2000, 1, 1, 6], 9083],\n",
       " [[2000, 1, 2, 7], 8006],\n",
       " [[2000, 1, 3, 1], 11363],\n",
       " [[2000, 1, 4, 2], 13032],\n",
       " [[2000, 1, 5, 3], 12558]]"
      ]
     },
     "execution_count": 17,
     "metadata": {},
     "output_type": "execute_result"
    }
   ],
   "source": [
    "create_key(ssa_list)[0:5]"
   ]
  },
  {
   "cell_type": "markdown",
   "metadata": {},
   "source": [
    "## 10. Combining two datasets and dealing with overlapping time periods"
   ]
  },
  {
   "cell_type": "code",
   "execution_count": 18,
   "metadata": {
    "collapsed": false
   },
   "outputs": [],
   "source": [
    "def combine(data1, data2):\n",
    "    data1 = create_key(data1)\n",
    "    data2 = create_key(data2)\n",
    "    total_list = []\n",
    "    for row_two in data2:\n",
    "        key_2 = row_two[0]\n",
    "        value_2 = row_two[1]\n",
    "        for row_one in data1:\n",
    "            key_1 = row_one[0]\n",
    "            value_1 = row_one[1]\n",
    "            if key_1 != key_2:\n",
    "                total_list.append(row_one)\n",
    "                total_list.append(row_two)\n",
    "            else:\n",
    "                new_val = value_1 + value_2\n",
    "                new_lst = [key_1,new_val]\n",
    "                total_list.append(new_lst)\n",
    "    return total_list\n",
    "mixed_data = combine(cdc_list,ssa_list)"
   ]
  },
  {
   "cell_type": "code",
   "execution_count": null,
   "metadata": {
    "collapsed": false
   },
   "outputs": [
    {
     "data": {
      "text/plain": [
       "[[[1994, 1, 1, 6], 8096],\n",
       " [[2000, 1, 1, 6], 9083],\n",
       " [[1994, 1, 2, 7], 7772],\n",
       " [[2000, 1, 1, 6], 9083],\n",
       " [[1994, 1, 3, 1], 10142]]"
      ]
     },
     "execution_count": 19,
     "metadata": {},
     "output_type": "execute_result"
    }
   ],
   "source": [
    "mixed_data[0:5]"
   ]
  },
  {
   "cell_type": "markdown",
   "metadata": {},
   "source": [
    "## 11. Cleaning 'key' and extracting data to normal List of Lists"
   ]
  },
  {
   "cell_type": "code",
   "execution_count": null,
   "metadata": {
    "collapsed": false
   },
   "outputs": [],
   "source": [
    "def clean_key(data):\n",
    "    total_data = []\n",
    "    for row in data:\n",
    "        new_row = []\n",
    "        key = row[0]\n",
    "        value = row[1]\n",
    "        year = key[0]\n",
    "        month = key[1]\n",
    "        dom = key[2]\n",
    "        dow = key[3]\n",
    "        new_row.append(year)\n",
    "        new_row.append(month)\n",
    "        new_row.append(dom)\n",
    "        new_row.append(dow)\n",
    "        new_row.append(value)\n",
    "        total_data.append(new_row)\n",
    "    return total_data\n",
    "cleaned_mixed_data = clean_key(mixed_data)\n",
    "cleaned_mixed_data[0:5]"
   ]
  }
 ],
 "metadata": {
  "anaconda-cloud": {},
  "kernelspec": {
   "display_name": "Python 3",
   "language": "python",
   "name": "python3"
  },
  "language_info": {
   "codemirror_mode": {
    "name": "ipython",
    "version": 3
   },
   "file_extension": ".py",
   "mimetype": "text/x-python",
   "name": "python",
   "nbconvert_exporter": "python",
   "pygments_lexer": "ipython3",
   "version": "3.4.3"
  }
 },
 "nbformat": 4,
 "nbformat_minor": 1
}
